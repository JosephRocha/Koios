{
 "cells": [
  {
   "cell_type": "code",
   "execution_count": 168,
   "metadata": {},
   "outputs": [],
   "source": [
    "import pandas as pd\n",
    "import seaborn as sns\n",
    "import numpy as np\n",
    "import math\n",
    "import matplotlib.pyplot as plt\n",
    "from scipy import spatial\n",
    "from sklearn import preprocessing"
   ]
  },
  {
   "cell_type": "code",
   "execution_count": 169,
   "metadata": {},
   "outputs": [],
   "source": [
    "def get_direction(x1, y1, x2, y2):\n",
    "    \n",
    "    deg = math.degrees(np.arctan2(x2-x1,y2-y1))\n",
    "    \n",
    "    if(np.arctan2(x2-x1,y2-y1) < 0):\n",
    "        deg+=360\n",
    "    \n",
    "    if(deg >= 22.5 and deg < 67.5):\n",
    "        return 2\n",
    "    elif(deg >= 67.5 and deg < 112.5):\n",
    "        return 3\n",
    "    elif(deg >= 112.5 and deg < 157.5):\n",
    "        return 4\n",
    "    elif(deg >= 157.5 and deg < 202.5):\n",
    "        return 5\n",
    "    elif(deg >= 202.5 and deg < 247.5):\n",
    "        return 6\n",
    "    elif(deg >= 247.5 and deg < 292.5):\n",
    "        return 7\n",
    "    elif(deg >= 292.5 and deg < 337.5):\n",
    "        return 8\n",
    "    elif(deg >= 337.5 or deg < 22.5):\n",
    "        return 1\n",
    "\n",
    "def ProcessRawData(file):\n",
    "    df = pd.read_csv(file)\n",
    "    df['stroke'] = list(pd.qcut(df['timestamp'], len(df)//30, labels=np.arange(0, len(df)//30)))\n",
    "    \n",
    "    distX = df.loc[:, 'x'].diff()\n",
    "    distX[0] = 0\n",
    "    distY = df.loc[:, 'y'].diff()\n",
    "    distY[0] = 0\n",
    "    distTime = df.loc[:, 'timestamp'].diff()\n",
    "    distTime[0] = 0\n",
    "    df['distance'] = np.sqrt(np.square(distX) + np.square(distY))\n",
    "    df['velocity'] = df['distance']/distTime\n",
    "    df.loc[0, 'velocity'] = 0\n",
    "    \n",
    "    velocityList = ['Velocity_Total', 'Velocity_Min', 'Velocity_Max', 'Velocity_STD', 'Velocity_Mean', 'Velocity_Median']\n",
    "    columns = velocityList\n",
    "    TrainingData = pd.DataFrame(columns=columns, index=list(np.arange(1, 9)))\n",
    "    \n",
    "    df['direction'] = -1\n",
    "    for x in df['stroke'].unique():\n",
    "        direction = get_direction(int(df[df['stroke'] == x].head(1)['x']),\n",
    "            int(df[df['stroke'] == x].head(1)['y']),\n",
    "            int(df[df['stroke'] == x].tail(1)['x']),\n",
    "            int(df[df['stroke'] == x].tail(1)['y'])\n",
    "           )\n",
    "        df.loc[df['stroke'] == x, 'direction'] = direction\n",
    "    \n",
    "    timeStampKeyList = []\n",
    "    for x in range(0, len(df)):\n",
    "        if(df.loc[x, 'keyDown'] == 1 and df.loc[x-1, 'keyDown'] == 1):\n",
    "            timeStampKeyList.append(df.loc[x, 'timestamp'] - df.loc[x-1, 'timestamp'])\n",
    "    timeStampKeyList = np.array(timeStampKeyList)\n",
    "    \n",
    "    timeStampClickList = []\n",
    "    for x in range(0, len(df)):\n",
    "        if(df.loc[x, 'mouseDown'] == 256):\n",
    "            timeStampClickList.append(df.loc[x, 'timestamp'] - df.loc[x-1, 'timestamp'])\n",
    "    timeStampClickList = np.array(timeStampClickList)\n",
    "    \n",
    "    \n",
    "    for x in df['direction'].unique():\n",
    "        TrainingData.loc[x, 'Velocity_Total'] = df[df['direction'] == x]['velocity'].sum()\n",
    "        TrainingData.loc[x, 'Velocity_Min'] = df[df['direction'] == x]['velocity'].min()\n",
    "        TrainingData.loc[x, 'Velocity_Max'] = df[df['direction'] == x]['velocity'].max()\n",
    "        TrainingData.loc[x, 'Velocity_STD'] = df[df['direction'] == x]['velocity'].std()\n",
    "        TrainingData.loc[x, 'Velocity_Mean'] = df[df['direction'] == x]['velocity'].mean()\n",
    "        TrainingData.loc[x, 'Velocity_Median'] = df[df['direction'] == x]['velocity'].median()\n",
    "    \n",
    "    X = np.array(TrainingData).flatten()\n",
    "    \n",
    "    MouseData = np.array([timeStampClickList.sum(),\n",
    "                     timeStampClickList.min(),\n",
    "                     timeStampClickList.max(),\n",
    "                     timeStampClickList.std(),\n",
    "                     timeStampClickList.mean(),\n",
    "                     np.median(timeStampClickList)])\n",
    "\n",
    "    KeyboardData = np.array([timeStampKeyList.sum(),\n",
    "                     timeStampKeyList.min(),\n",
    "                     timeStampKeyList.max(),\n",
    "                     timeStampKeyList.std(),\n",
    "                     timeStampKeyList.mean(),\n",
    "                     np.median(timeStampKeyList)])\n",
    "    \n",
    "    return(np.concatenate((X, MouseData, KeyboardData)))\n",
    "    \n",
    "    "
   ]
  },
  {
   "cell_type": "code",
   "execution_count": null,
   "metadata": {},
   "outputs": [],
   "source": [
    "a = ProcessRawData('../datasets/CSJReal5')\n",
    "a = a / np.linalg.norm(a)"
   ]
  },
  {
   "cell_type": "code",
   "execution_count": null,
   "metadata": {},
   "outputs": [],
   "source": [
    "b = ProcessRawData('../datasets/JAR60')\n",
    "b = b / np.linalg.norm(b)"
   ]
  },
  {
   "cell_type": "code",
   "execution_count": null,
   "metadata": {},
   "outputs": [],
   "source": [
    "c = ProcessRawData('../datasets/CSJ30')\n",
    "c = c / np.linalg.norm(c)"
   ]
  },
  {
   "cell_type": "code",
   "execution_count": null,
   "metadata": {},
   "outputs": [],
   "source": [
    "result = spatial.distance.cityblock(a, b)"
   ]
  },
  {
   "cell_type": "code",
   "execution_count": null,
   "metadata": {},
   "outputs": [],
   "source": [
    "result"
   ]
  },
  {
   "cell_type": "code",
   "execution_count": null,
   "metadata": {},
   "outputs": [],
   "source": [
    "result2 = spatial.distance.cityblock(a, c)"
   ]
  },
  {
   "cell_type": "code",
   "execution_count": null,
   "metadata": {},
   "outputs": [],
   "source": [
    "result2"
   ]
  },
  {
   "cell_type": "code",
   "execution_count": null,
   "metadata": {},
   "outputs": [],
   "source": [
    "if(result2 < result):\n",
    "    print(\"B and A are more similar than B and C\")"
   ]
  },
  {
   "cell_type": "code",
   "execution_count": null,
   "metadata": {},
   "outputs": [],
   "source": [
    "Hello this is hjoseph I am sad because I write stuff for 60 minutes and now ben is cussing because the NSA is listening and there are duckies staring at me and now I go and die goodbye goodbye goodbye"
   ]
  },
  {
   "cell_type": "code",
   "execution_count": null,
   "metadata": {},
   "outputs": [],
   "source": []
  }
 ],
 "metadata": {
  "kernelspec": {
   "display_name": "Python 3",
   "language": "python",
   "name": "python3"
  },
  "language_info": {
   "codemirror_mode": {
    "name": "ipython",
    "version": 3
   },
   "file_extension": ".py",
   "mimetype": "text/x-python",
   "name": "python",
   "nbconvert_exporter": "python",
   "pygments_lexer": "ipython3",
   "version": "3.6.6"
  }
 },
 "nbformat": 4,
 "nbformat_minor": 2
}
